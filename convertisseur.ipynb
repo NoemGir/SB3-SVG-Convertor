{
 "cells": [
  {
   "cell_type": "code",
   "execution_count": 1,
   "id": "76849771-0f67-4553-8c36-55e2452a88e5",
   "metadata": {},
   "outputs": [],
   "source": [
    "# utiliser un path pour les SVG\n",
    "import os\n",
    "from typing import NamedTuple\n",
    "import re\n",
    "import math \n",
    "import array\n",
    "from zipfile import ZipFile\n",
    "\n",
    "\n",
    "class Bloc(NamedTuple):\n",
    "    opcode: str\n",
    "    next: str\n",
    "    values: array"
   ]
  },
  {
   "cell_type": "code",
   "execution_count": 2,
   "id": "6bf75760-960f-4525-b4c1-906050588f6e",
   "metadata": {},
   "outputs": [],
   "source": [
    "def decompresserSB3(sb3_name):\n",
    "    with ZipFile(sb3_name, \"r\") as obj_zip:\n",
    "        FileNames = obj_zip.namelist()\n",
    "        for fileName in FileNames:\n",
    "            if fileName.endswith(\".json\"):\n",
    "                obj_zip.extract(fileName, \"\")"
   ]
  },
  {
   "cell_type": "code",
   "execution_count": 3,
   "id": "f93209fd-f352-4f46-a3c6-b99e2984f172",
   "metadata": {},
   "outputs": [],
   "source": [
    "def insertLinesRVG(nouvellesLignes):\n",
    "\n",
    "    with open('blank.svg', 'r') as f:\n",
    "        lines = f.readlines()\n",
    "        \n",
    "    lines.insert(8, nouvellesLignes)\n",
    "\n",
    "    with open('result.svg', 'w') as f_res:\n",
    "        f_res.writelines(lines)\n",
    "\n",
    "       # f_res.writelines(lines)\n",
    "    "
   ]
  },
  {
   "cell_type": "code",
   "execution_count": 17,
   "id": "0023f516-6837-464e-bbc7-0c187eb88937",
   "metadata": {},
   "outputs": [],
   "source": [
    "def genererDictionnaire(lecture):\n",
    "    blocs = {}\n",
    "    for m in re.finditer('\"bloc(.+?)\":{(.*?)}', lecture):\n",
    "        start = m.start()\n",
    "        end = m.end()\n",
    "        bloc = lecture[start:end]\n",
    "        name = re.search('\"(.+?)\"', bloc).group(0)\n",
    "        opcode = re.search('\"opcode\":\"(.+?)\"', bloc).group(1)\n",
    "        next = re.search('\"next\":(.+?),',bloc).group(1)\n",
    "        values = re.search('0,\"(.+?)\"]]', bloc)\n",
    "        if(values != None ):\n",
    "            list = [int(values.group(1))]\n",
    "            object = Bloc(opcode, next, list)\n",
    "        else: \n",
    "            object = Bloc(opcode, next, None)\n",
    "        blocs.update([(name, object)])\n",
    "    return blocs"
   ]
  },
  {
   "cell_type": "code",
   "execution_count": 5,
   "id": "3ccfcc6e-cbec-43a0-b1dd-a82fb8a4aa29",
   "metadata": {},
   "outputs": [],
   "source": [
    "def rightBloc(bloc):\n",
    "    opcode = bloc.opcode\n",
    "    return opcode in [\"motion_movesteps\", \"motion_turnright\", \"motion_turnleft\", \"motion_gotoxy\"]"
   ]
  },
  {
   "cell_type": "code",
   "execution_count": 6,
   "id": "8d9e7d16-d0f8-4da5-93af-80a9ef56b2a7",
   "metadata": {},
   "outputs": [],
   "source": [
    "def calculX(orientation, distance):\n",
    "    signe = 1\n",
    "    if( 0 <= orientation[0] < 90 or 180 <= orientation[0] < 270):\n",
    "        b = 90 - (orientation[0] % 90)\n",
    "    else: \n",
    "        b = orientation[0] % 90\n",
    "    \n",
    "    if (90 < orientation[0] < 270):\n",
    "        signe = -1\n",
    "    b = math.radians(b)\n",
    "    return math.sin(b) * distance * signe\n",
    "\n",
    "\n",
    "def calculY(orientation, distance):\n",
    "    signe = 1\n",
    "    if( 0 <= orientation[0] < 90 or 180 <= orientation[0] < 270):\n",
    "        b = orientation[0] % 90\n",
    "    else: \n",
    "        b = 90- (orientation[0] % 90)\n",
    "\n",
    "    if (180 < orientation[0] < 360):\n",
    "        signe = -1\n",
    "    b = math.radians(b)\n",
    "    return math.sin(b) * distance * signe"
   ]
  },
  {
   "cell_type": "code",
   "execution_count": 22,
   "id": "fa95ce28-9fce-4704-9641-b212391485cf",
   "metadata": {},
   "outputs": [],
   "source": [
    "def ajouterLigne(lettre, ajout, x, y):\n",
    "    ligne = lettre + \" \" + str(x) + \",\" + str(y) + \"\\n\"\n",
    "   # print(\"ligne ajoutée = \" + ligne) \n",
    "    ajout = ajout + ligne\n",
    "    return ajout"
   ]
  },
  {
   "cell_type": "code",
   "execution_count": 20,
   "id": "842ec137-ed9e-4574-ba62-38edd2e15a39",
   "metadata": {},
   "outputs": [],
   "source": [
    "def cas_avancer(ajout, bloc, dessin, orientation):\n",
    "    distance = bloc.values[0]\n",
    "    x = calculX(orientation, distance)\n",
    "    y = calculY(orientation, distance)\n",
    "\n",
    "    if(dessin):\n",
    "        ajout = ajouterLigne(\"l\", ajout, x, y)\n",
    "    else:\n",
    "        ajout = ajouterLigne(\"m\", ajout, x, y)\n",
    "    return ajout"
   ]
  },
  {
   "cell_type": "code",
   "execution_count": 9,
   "id": "f960db1b-ac81-47d8-b79d-ddaae8beaf14",
   "metadata": {},
   "outputs": [],
   "source": [
    "def cas_aller(ajout, bloc, dessin):\n",
    "     x = bloc.values[0]\n",
    "     y = bloc.values[1]\n",
    "\n",
    "     if(dessin):\n",
    "         ajout = ajouterLigne(\"L\", ajout, x, y)\n",
    "     else:\n",
    "         ajout = ajouterLigne(\"M\", ajout, x, y)\n",
    "     return ajout"
   ]
  },
  {
   "cell_type": "code",
   "execution_count": 10,
   "id": "a327b933-298d-40f7-9c6d-b7c65225721f",
   "metadata": {},
   "outputs": [],
   "source": [
    "def changer_direction(bloc, orientation, droite):\n",
    "    degree = bloc.values[0]\n",
    "    if(droite):\n",
    "        orientation[0] += degree\n",
    "    else:\n",
    "        orientation[0] -= degree\n",
    "    orientation[0] = orientation[0]  % 360"
   ]
  },
  {
   "cell_type": "code",
   "execution_count": 11,
   "id": "1eb67a60-b6bc-4924-b0c8-72ed4246be23",
   "metadata": {},
   "outputs": [],
   "source": [
    "def actionBloc(ajout, bloc, dessin, orientation):\n",
    "    match bloc.opcode:\n",
    "        case \"motion_movesteps\":\n",
    "            ajout = cas_avancer(ajout, bloc, dessin, orientation)        \n",
    "        case \"motion_gotoxy\":\n",
    "            ajout = cas_aller(ajout, bloc, dessin)\n",
    "        case \"motion_turnright\":\n",
    "            changer_direction(bloc, orientation, True)\n",
    "        case \"motion_turnleft\":\n",
    "            changer_direction(bloc, orientation, False)\n",
    "    return ajout"
   ]
  },
  {
   "cell_type": "code",
   "execution_count": 12,
   "id": "f6916788-deed-4182-b35c-647f2d95cacf",
   "metadata": {},
   "outputs": [],
   "source": [
    "def genererLignes(dico):\n",
    "    blocsParcourus = False;\n",
    "    bloc = dico['\"bloc0\"']\n",
    "    ajout = \"\"\n",
    "    dessin = False\n",
    "    orientation = [0]\n",
    "    while(not blocsParcourus):\n",
    "       # print(\"BLOC = \" + bloc.opcode)\n",
    "        if( dessin ):\n",
    "            dessin = bloc.opcode != \"pen_penUp\"\n",
    "        else:\n",
    "            dessin = bloc.opcode == \"pen_penDown\"\n",
    "\n",
    "        if(rightBloc(bloc)):\n",
    "            ajout = actionBloc(ajout, bloc, dessin, orientation)\n",
    "            \n",
    "        if (bloc.next in dico):\n",
    "            bloc = dico[bloc.next]\n",
    "        else:\n",
    "            blocsParcourus = True;\n",
    "    return ajout"
   ]
  },
  {
   "cell_type": "code",
   "execution_count": 19,
   "id": "5d9ba606-5216-46fc-9f50-0eb0b1b00e98",
   "metadata": {},
   "outputs": [
    {
     "name": "stdout",
     "output_type": "stream",
     "text": [
      "BLOC = event_whenflagclicked\n",
      "BLOC = pen_penDown\n",
      "BLOC = motion_movesteps\n",
      "orientation = [0] distance = 3\n",
      "ligne ajoutée = l 3.0,0.0\n",
      "\n",
      "BLOC = motion_turnright\n",
      "BLOC = motion_movesteps\n",
      "orientation = [3] distance = 3\n",
      "ligne ajoutée = l 2.9958886042637216,0.1570078687288315\n",
      "\n",
      "BLOC = motion_turnright\n",
      "BLOC = motion_movesteps\n",
      "orientation = [6] distance = 3\n",
      "ligne ajoutée = l 2.9835656861048196,0.3135853898029604\n",
      "\n",
      "BLOC = motion_turnright\n",
      "BLOC = motion_movesteps\n",
      "orientation = [9] distance = 3\n",
      "ligne ajoutée = l 2.9630650217854133,0.46930339512069263\n",
      "\n"
     ]
    }
   ],
   "source": [
    "decompresserSB3(\"Programme_scratch.sb3\")\n",
    "with open('project.json', 'r') as f:\n",
    "    lecture = f.read()\n",
    "    lecture = lecture[lecture.find(\"block\")+1:]\n",
    "    lecture = lecture[lecture.find(\"block\"):]\n",
    "    \n",
    "    dico = genererDictionnaire(lecture)\n",
    "    nouvellesLignes = genererLignes(dico)\n",
    "\n",
    "    insertLinesRVG(nouvellesLignes)    "
   ]
  },
  {
   "cell_type": "code",
   "execution_count": null,
   "id": "2a44149d-795e-4975-8be7-161a5f7c6eb0",
   "metadata": {},
   "outputs": [],
   "source": []
  }
 ],
 "metadata": {
  "kernelspec": {
   "display_name": "Python 3 (ipykernel)",
   "language": "python",
   "name": "python3"
  },
  "language_info": {
   "codemirror_mode": {
    "name": "ipython",
    "version": 3
   },
   "file_extension": ".py",
   "mimetype": "text/x-python",
   "name": "python",
   "nbconvert_exporter": "python",
   "pygments_lexer": "ipython3",
   "version": "3.12.1"
  }
 },
 "nbformat": 4,
 "nbformat_minor": 5
}
